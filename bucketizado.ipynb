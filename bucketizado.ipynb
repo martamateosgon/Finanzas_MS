{
 "cells": [
  {
   "cell_type": "code",
   "execution_count": 2,
   "metadata": {},
   "outputs": [],
   "source": [
    "import pandas as pd"
   ]
  },
  {
   "cell_type": "code",
   "execution_count": 3,
   "metadata": {},
   "outputs": [
    {
     "data": {
      "text/html": [
       "<div>\n",
       "<style scoped>\n",
       "    .dataframe tbody tr th:only-of-type {\n",
       "        vertical-align: middle;\n",
       "    }\n",
       "\n",
       "    .dataframe tbody tr th {\n",
       "        vertical-align: top;\n",
       "    }\n",
       "\n",
       "    .dataframe thead th {\n",
       "        text-align: right;\n",
       "    }\n",
       "</style>\n",
       "<table border=\"1\" class=\"dataframe\">\n",
       "  <thead>\n",
       "    <tr style=\"text-align: right;\">\n",
       "      <th></th>\n",
       "      <th>Dias_impago_descubierto_year</th>\n",
       "      <th>Dias_impago_hip_year</th>\n",
       "      <th>Indicador_recibos</th>\n",
       "      <th>Indicador_tarjeta</th>\n",
       "      <th>Mora_ult5A</th>\n",
       "      <th>Recibos_denegados_dummy</th>\n",
       "      <th>Edad</th>\n",
       "      <th>Sal_BurCto_Year</th>\n",
       "      <th>default</th>\n",
       "      <th>scoring</th>\n",
       "    </tr>\n",
       "  </thead>\n",
       "  <tbody>\n",
       "    <tr>\n",
       "      <th>0</th>\n",
       "      <td>0.0</td>\n",
       "      <td>0.0</td>\n",
       "      <td>1.0</td>\n",
       "      <td>0.0</td>\n",
       "      <td>0.0</td>\n",
       "      <td>0</td>\n",
       "      <td>70.42</td>\n",
       "      <td>0.0</td>\n",
       "      <td>0.0</td>\n",
       "      <td>0.245310</td>\n",
       "    </tr>\n",
       "    <tr>\n",
       "      <th>1</th>\n",
       "      <td>0.0</td>\n",
       "      <td>0.0</td>\n",
       "      <td>1.0</td>\n",
       "      <td>0.0</td>\n",
       "      <td>0.0</td>\n",
       "      <td>0</td>\n",
       "      <td>44.28</td>\n",
       "      <td>0.0</td>\n",
       "      <td>0.0</td>\n",
       "      <td>0.239274</td>\n",
       "    </tr>\n",
       "    <tr>\n",
       "      <th>2</th>\n",
       "      <td>5.0</td>\n",
       "      <td>0.0</td>\n",
       "      <td>1.0</td>\n",
       "      <td>1.0</td>\n",
       "      <td>0.0</td>\n",
       "      <td>0</td>\n",
       "      <td>46.70</td>\n",
       "      <td>0.0</td>\n",
       "      <td>0.0</td>\n",
       "      <td>0.195783</td>\n",
       "    </tr>\n",
       "    <tr>\n",
       "      <th>3</th>\n",
       "      <td>4.0</td>\n",
       "      <td>0.0</td>\n",
       "      <td>1.0</td>\n",
       "      <td>1.0</td>\n",
       "      <td>0.0</td>\n",
       "      <td>0</td>\n",
       "      <td>68.19</td>\n",
       "      <td>0.0</td>\n",
       "      <td>0.0</td>\n",
       "      <td>0.189785</td>\n",
       "    </tr>\n",
       "    <tr>\n",
       "      <th>4</th>\n",
       "      <td>0.0</td>\n",
       "      <td>0.0</td>\n",
       "      <td>0.0</td>\n",
       "      <td>0.0</td>\n",
       "      <td>0.0</td>\n",
       "      <td>0</td>\n",
       "      <td>55.43</td>\n",
       "      <td>0.0</td>\n",
       "      <td>0.0</td>\n",
       "      <td>0.404348</td>\n",
       "    </tr>\n",
       "  </tbody>\n",
       "</table>\n",
       "</div>"
      ],
      "text/plain": [
       "   Dias_impago_descubierto_year  Dias_impago_hip_year  Indicador_recibos  \\\n",
       "0                           0.0                   0.0                1.0   \n",
       "1                           0.0                   0.0                1.0   \n",
       "2                           5.0                   0.0                1.0   \n",
       "3                           4.0                   0.0                1.0   \n",
       "4                           0.0                   0.0                0.0   \n",
       "\n",
       "   Indicador_tarjeta  Mora_ult5A  Recibos_denegados_dummy   Edad  \\\n",
       "0                0.0         0.0                        0  70.42   \n",
       "1                0.0         0.0                        0  44.28   \n",
       "2                1.0         0.0                        0  46.70   \n",
       "3                1.0         0.0                        0  68.19   \n",
       "4                0.0         0.0                        0  55.43   \n",
       "\n",
       "   Sal_BurCto_Year  default   scoring  \n",
       "0              0.0      0.0  0.245310  \n",
       "1              0.0      0.0  0.239274  \n",
       "2              0.0      0.0  0.195783  \n",
       "3              0.0      0.0  0.189785  \n",
       "4              0.0      0.0  0.404348  "
      ]
     },
     "execution_count": 3,
     "metadata": {},
     "output_type": "execute_result"
    }
   ],
   "source": [
    "df = pd.read_csv('BBDD_Scoring_con_scoring.csv')\n",
    "df_predicciones_macro = pd.read_csv('predicciones_macro.csv')\n",
    "df.head()"
   ]
  },
  {
   "cell_type": "markdown",
   "metadata": {},
   "source": [
    "Clustering de datos con KMeans"
   ]
  },
  {
   "cell_type": "code",
   "execution_count": 4,
   "metadata": {},
   "outputs": [
    {
     "data": {
      "text/plain": [
       "Index(['Dias_impago_descubierto_year', 'Dias_impago_hip_year',\n",
       "       'Indicador_recibos', 'Indicador_tarjeta', 'Mora_ult5A',\n",
       "       'Recibos_denegados_dummy', 'Edad', 'Sal_BurCto_Year', 'default',\n",
       "       'scoring'],\n",
       "      dtype='object')"
      ]
     },
     "execution_count": 4,
     "metadata": {},
     "output_type": "execute_result"
    }
   ],
   "source": [
    "df.columns"
   ]
  },
  {
   "cell_type": "code",
   "execution_count": 5,
   "metadata": {},
   "outputs": [
    {
     "data": {
      "image/png": "[encoded data removed]",
      "text/plain": [
       "<Figure size 1000x600 with 1 Axes>"
      ]
     },
     "metadata": {},
     "output_type": "display_data"
    }
   ],
   "source": [
    "import pandas as pd\n",
    "from sklearn.model_selection import train_test_split\n",
    "from sklearn.neighbors import KNeighborsClassifier\n",
    "from sklearn.metrics import accuracy_score\n",
    "import matplotlib.pyplot as plt\n",
    "\n",
    "# Reemplaza esto con tu DataFrame y las columnas correspondientes\n",
    "# df = tu_dataframe\n",
    "X = df[[\"scoring\"]]  # Reemplaza con las columnas de características\n",
    "y = df[\"default\"]     # Reemplaza con la columna de etiquetas\n",
    "\n",
    "# Dividir los datos en entrenamiento y prueba\n",
    "X_train, X_test, y_train, y_test = train_test_split(X, y, test_size=0.3, random_state=42)\n",
    "\n",
    "# Evaluar precisión para diferentes valores de k\n",
    "k_values = range(1, 13)\n",
    "accuracies = []\n",
    "\n",
    "for k in k_values:\n",
    "    knn = KNeighborsClassifier(n_neighbors=k)\n",
    "    knn.fit(X_train, y_train)\n",
    "    y_pred = knn.predict(X_test)\n",
    "    accuracies.append(accuracy_score(y_test, y_pred))\n",
    "\n",
    "# Graficar el resultado\n",
    "plt.figure(figsize=(10, 6))\n",
    "plt.plot(k_values, accuracies, marker='o', linestyle='-', color='b')\n",
    "plt.title(\"Gráfico de Codo para K-Nearest Neighbors\")\n",
    "plt.xlabel(\"Número de Vecinos (k)\")\n",
    "plt.ylabel(\"Precisión\")\n",
    "plt.xticks(k_values)\n",
    "plt.grid()\n",
    "plt.show()\n",
    "\n",
    "\n",
    "\n"
   ]
  },
  {
   "cell_type": "code",
   "execution_count": 6,
   "metadata": {},
   "outputs": [
    {
     "data": {
      "image/png": "[encoded data removed]",
      "text/plain": [
       "<Figure size 640x480 with 1 Axes>"
      ]
     },
     "metadata": {},
     "output_type": "display_data"
    },
    {
     "data": {
      "text/plain": [
       "1    0.340043\n",
       "2    0.288851\n",
       "0    0.274266\n",
       "3    0.050551\n",
       "4    0.024989\n",
       "5    0.021300\n",
       "Name: cluster, dtype: float64"
      ]
     },
     "metadata": {},
     "output_type": "display_data"
    }
   ],
   "source": [
    "# Clustering con todas las variables\n",
    "from sklearn.cluster import KMeans\n",
    "import matplotlib.pyplot as plt\n",
    "\n",
    "X = df.drop('default', axis=1)\n",
    "kmeans = KMeans(n_clusters=6, random_state=0).fit(df['scoring'].values.reshape(-1, 1))# df['scoring'].values.reshape(-1, 1)\n",
    "df['cluster'] = kmeans.labels_\n",
    "\n",
    "cluster_means = df.groupby('cluster')['scoring'].mean().sort_values() \n",
    "\n",
    "# Crear un diccionario para mapear los clusters originales a los nuevos clusters ordenados\n",
    "cluster_order = {old: new for new, old in enumerate(cluster_means.index)} \n",
    "\n",
    "# Reasignar los clusters \n",
    "df['cluster'] = df['cluster'].map(cluster_order) \n",
    "\n",
    "# Visualización \n",
    "fig, ax = plt.subplots() \n",
    "scatter = ax.scatter(df['scoring'], df['cluster'], c=df['cluster']) \n",
    "legend1 = ax.legend(*scatter.legend_elements(), title=\"Clusters\") \n",
    "ax.xaxis.set_label_text('scoring')\n",
    "ax.yaxis.set_label_text('cluster')\n",
    "ax.add_artist(legend1) \n",
    "plt.title('K-means con 6 clusters')\n",
    "plt.show() \n",
    "\n",
    "display(df['cluster'].value_counts(normalize=True))"
   ]
  },
  {
   "cell_type": "code",
   "execution_count": 19,
   "metadata": {},
   "outputs": [
    {
     "data": {
      "text/html": [
       "<div>\n",
       "<style scoped>\n",
       "    .dataframe tbody tr th:only-of-type {\n",
       "        vertical-align: middle;\n",
       "    }\n",
       "\n",
       "    .dataframe tbody tr th {\n",
       "        vertical-align: top;\n",
       "    }\n",
       "\n",
       "    .dataframe thead th {\n",
       "        text-align: right;\n",
       "    }\n",
       "</style>\n",
       "<table border=\"1\" class=\"dataframe\">\n",
       "  <thead>\n",
       "    <tr style=\"text-align: right;\">\n",
       "      <th></th>\n",
       "      <th>k</th>\n",
       "      <th>max_mean</th>\n",
       "      <th>min_mean</th>\n",
       "      <th>within_var</th>\n",
       "      <th>size_var</th>\n",
       "    </tr>\n",
       "  </thead>\n",
       "  <tbody>\n",
       "    <tr>\n",
       "      <th>0</th>\n",
       "      <td>4</td>\n",
       "      <td>0.019893</td>\n",
       "      <td>0.000384</td>\n",
       "      <td>0.005374</td>\n",
       "      <td>1.215080e+09</td>\n",
       "    </tr>\n",
       "    <tr>\n",
       "      <th>1</th>\n",
       "      <td>5</td>\n",
       "      <td>0.026597</td>\n",
       "      <td>0.000376</td>\n",
       "      <td>0.006392</td>\n",
       "      <td>1.351140e+09</td>\n",
       "    </tr>\n",
       "    <tr>\n",
       "      <th>2</th>\n",
       "      <td>6</td>\n",
       "      <td>0.032562</td>\n",
       "      <td>0.000377</td>\n",
       "      <td>0.007525</td>\n",
       "      <td>1.384362e+09</td>\n",
       "    </tr>\n",
       "    <tr>\n",
       "      <th>3</th>\n",
       "      <td>7</td>\n",
       "      <td>0.032831</td>\n",
       "      <td>0.000365</td>\n",
       "      <td>0.006661</td>\n",
       "      <td>8.038529e+08</td>\n",
       "    </tr>\n",
       "    <tr>\n",
       "      <th>4</th>\n",
       "      <td>8</td>\n",
       "      <td>0.037718</td>\n",
       "      <td>0.000365</td>\n",
       "      <td>0.007150</td>\n",
       "      <td>7.811835e+08</td>\n",
       "    </tr>\n",
       "    <tr>\n",
       "      <th>5</th>\n",
       "      <td>9</td>\n",
       "      <td>0.038304</td>\n",
       "      <td>0.000288</td>\n",
       "      <td>0.006597</td>\n",
       "      <td>7.212056e+08</td>\n",
       "    </tr>\n",
       "    <tr>\n",
       "      <th>6</th>\n",
       "      <td>10</td>\n",
       "      <td>0.041918</td>\n",
       "      <td>0.000288</td>\n",
       "      <td>0.006998</td>\n",
       "      <td>6.958547e+08</td>\n",
       "    </tr>\n",
       "    <tr>\n",
       "      <th>7</th>\n",
       "      <td>11</td>\n",
       "      <td>0.043579</td>\n",
       "      <td>0.000288</td>\n",
       "      <td>0.006915</td>\n",
       "      <td>6.480644e+08</td>\n",
       "    </tr>\n",
       "    <tr>\n",
       "      <th>8</th>\n",
       "      <td>12</td>\n",
       "      <td>0.044669</td>\n",
       "      <td>0.000289</td>\n",
       "      <td>0.006485</td>\n",
       "      <td>5.627381e+08</td>\n",
       "    </tr>\n",
       "  </tbody>\n",
       "</table>\n",
       "</div>"
      ],
      "text/plain": [
       "    k  max_mean  min_mean  within_var      size_var\n",
       "0   4  0.019893  0.000384    0.005374  1.215080e+09\n",
       "1   5  0.026597  0.000376    0.006392  1.351140e+09\n",
       "2   6  0.032562  0.000377    0.007525  1.384362e+09\n",
       "3   7  0.032831  0.000365    0.006661  8.038529e+08\n",
       "4   8  0.037718  0.000365    0.007150  7.811835e+08\n",
       "5   9  0.038304  0.000288    0.006597  7.212056e+08\n",
       "6  10  0.041918  0.000288    0.006998  6.958547e+08\n",
       "7  11  0.043579  0.000288    0.006915  6.480644e+08\n",
       "8  12  0.044669  0.000289    0.006485  5.627381e+08"
      ]
     },
     "metadata": {},
     "output_type": "display_data"
    },
    {
     "name": "stderr",
     "output_type": "stream",
     "text": [
      "c:\\Users\\ibene\\.conda\\envs\\DM_reto9\\lib\\site-packages\\IPython\\core\\pylabtools.py:151: UserWarning: Creating legend with loc=\"best\" can be slow with large amounts of data.\n",
      "  fig.canvas.print_figure(bytes_io, **kw)\n"
     ]
    },
    {
     "data": {
      "image/png": "[encoded data removed]",
      "text/plain": [
       "<Figure size 640x480 with 1 Axes>"
      ]
     },
     "metadata": {},
     "output_type": "display_data"
    },
    {
     "name": "stdout",
     "output_type": "stream",
     "text": [
      "Métricas para k óptimo:\n",
      "k             1.200000e+01\n",
      "max_mean      4.466945e-02\n",
      "min_mean      2.888253e-04\n",
      "within_var    6.485418e-03\n",
      "size_var      5.627381e+08\n",
      "score        -5.627381e+08\n",
      "Name: 8, dtype: float64\n"
     ]
    }
   ],
   "source": [
    "k_values = range(4, 13)  # Rango de valores de k\n",
    "cluster_metrics = []\n",
    "df_mejor_cluster = df.copy()\n",
    "df_mejor_cluster = df_mejor_cluster.drop('cluster', axis=1)\n",
    "\n",
    "for k in k_values:\n",
    "    kmeans = KMeans(n_clusters=k, random_state=0).fit(df_mejor_cluster['scoring'].values.reshape(-1, 1))\n",
    "    df_mejor_cluster['cluster'] = kmeans.labels_\n",
    "\n",
    "    # Calcular la media de default por clúster\n",
    "    cluster_means = df_mejor_cluster.groupby('cluster')['default'].mean()\n",
    "\n",
    "    # Calcular dispersión dentro de clústeres\n",
    "    within_cluster_var = df_mejor_cluster.groupby('cluster')['default'].var().mean()\n",
    "\n",
    "    # Calcular el tamaño de cada cluster\n",
    "    cluster_sizes = df_mejor_cluster['cluster'].value_counts()\n",
    "    size_variance = cluster_sizes.var()\n",
    "\n",
    "    # Guardar métricas\n",
    "    cluster_metrics.append({\n",
    "        'k': k,\n",
    "        'max_mean': cluster_means.max(),\n",
    "        'min_mean': cluster_means.min(),\n",
    "        'within_var': within_cluster_var,\n",
    "        'size_var': size_variance\n",
    "    })\n",
    "\n",
    "# Convertir las métricas en un DataFrame\n",
    "metrics_df = pd.DataFrame(cluster_metrics)\n",
    "display(metrics_df)\n",
    "\n",
    "# Seleccionar el valor óptimo de k considerando varianza de tamaños\n",
    "metrics_df['score'] = metrics_df['max_mean'] - metrics_df['min_mean'] - metrics_df['within_var'] - metrics_df['size_var']\n",
    "optimal_k_row = metrics_df.loc[metrics_df['score'].idxmax()]\n",
    "optimal_k = int(optimal_k_row['k'])\n",
    "\n",
    "# Ajustar el modelo con k óptimo\n",
    "kmeans = KMeans(n_clusters=optimal_k, random_state=0).fit(df_mejor_cluster['scoring'].values.reshape(-1, 1))\n",
    "df_mejor_cluster['cluster'] = kmeans.labels_\n",
    "\n",
    "# Visualización\n",
    "fig, ax = plt.subplots()\n",
    "scatter = ax.scatter(df_mejor_cluster['scoring'], df_mejor_cluster['cluster'], c=df_mejor_cluster['cluster'], cmap='viridis')\n",
    "legend1 = ax.legend(*scatter.legend_elements(), title=\"Clusters\")\n",
    "ax.add_artist(legend1)\n",
    "plt.xlabel('Scoring')\n",
    "plt.ylabel('Cluster')\n",
    "plt.title(f'K-Means Clustering (k={optimal_k})')\n",
    "plt.show()\n",
    "\n",
    "# Mostrar las métricas de k óptimo\n",
    "print(\"Métricas para k óptimo:\")\n",
    "print(optimal_k_row)\n"
   ]
  },
  {
   "cell_type": "code",
   "execution_count": 20,
   "metadata": {},
   "outputs": [
    {
     "name": "stdout",
     "output_type": "stream",
     "text": [
      "Variable: Dias_impago_descubierto_year\n"
     ]
    },
    {
     "data": {
      "text/plain": [
       "cluster\n",
       "0      0.389242\n",
       "1      0.417652\n",
       "2     15.958321\n",
       "3      6.230625\n",
       "4      0.107580\n",
       "5     44.763848\n",
       "6      5.166943\n",
       "7      0.648066\n",
       "8     21.838581\n",
       "9     11.305423\n",
       "10     3.709055\n",
       "11     3.735717\n",
       "Name: Dias_impago_descubierto_year, dtype: float64"
      ]
     },
     "metadata": {},
     "output_type": "display_data"
    },
    {
     "name": "stdout",
     "output_type": "stream",
     "text": [
      "Variable: Dias_impago_hip_year\n"
     ]
    },
    {
     "data": {
      "text/plain": [
       "cluster\n",
       "0      0.036329\n",
       "1      0.103418\n",
       "2      7.384002\n",
       "3      2.124172\n",
       "4      0.007556\n",
       "5     37.886242\n",
       "6      0.656676\n",
       "7      0.092020\n",
       "8     13.111473\n",
       "9      4.115498\n",
       "10     1.276166\n",
       "11     0.229830\n",
       "Name: Dias_impago_hip_year, dtype: float64"
      ]
     },
     "metadata": {},
     "output_type": "display_data"
    },
    {
     "name": "stdout",
     "output_type": "stream",
     "text": [
      "Variable: Indicador_recibos\n"
     ]
    },
    {
     "data": {
      "text/plain": [
       "cluster\n",
       "0     1.000000\n",
       "1     0.026147\n",
       "2     0.172541\n",
       "3     0.120138\n",
       "4     1.000000\n",
       "5     0.174211\n",
       "6     0.597245\n",
       "7     0.169367\n",
       "8     0.151285\n",
       "9     0.167007\n",
       "10    0.104004\n",
       "11    1.000000\n",
       "Name: Indicador_recibos, dtype: float64"
      ]
     },
     "metadata": {},
     "output_type": "display_data"
    },
    {
     "name": "stdout",
     "output_type": "stream",
     "text": [
      "Variable: Indicador_tarjeta\n"
     ]
    },
    {
     "data": {
      "text/plain": [
       "cluster\n",
       "0     0.050067\n",
       "1     0.024236\n",
       "2     0.096537\n",
       "3     0.079372\n",
       "4     1.000000\n",
       "5     0.102442\n",
       "6     0.489096\n",
       "7     0.853046\n",
       "8     0.095548\n",
       "9     0.097572\n",
       "10    0.070586\n",
       "11    1.000000\n",
       "Name: Indicador_tarjeta, dtype: float64"
      ]
     },
     "metadata": {},
     "output_type": "display_data"
    },
    {
     "name": "stdout",
     "output_type": "stream",
     "text": [
      "Variable: Mora_ult5A\n"
     ]
    },
    {
     "data": {
      "text/plain": [
       "cluster\n",
       "0     0.002981\n",
       "1     0.003505\n",
       "2     0.102360\n",
       "3     0.154134\n",
       "4     0.000000\n",
       "5     0.318344\n",
       "6     0.045657\n",
       "7     0.001126\n",
       "8     0.137894\n",
       "9     0.084638\n",
       "10    0.006617\n",
       "11    0.016718\n",
       "Name: Mora_ult5A, dtype: float64"
      ]
     },
     "metadata": {},
     "output_type": "display_data"
    },
    {
     "name": "stdout",
     "output_type": "stream",
     "text": [
      "Variable: Recibos_denegados_dummy\n"
     ]
    },
    {
     "data": {
      "text/plain": [
       "cluster\n",
       "0     0.004931\n",
       "1     0.008116\n",
       "2     0.216978\n",
       "3     0.112215\n",
       "4     0.000000\n",
       "5     0.209946\n",
       "6     0.085448\n",
       "7     0.016925\n",
       "8     0.224756\n",
       "9     0.173587\n",
       "10    0.099040\n",
       "11    0.044919\n",
       "Name: Recibos_denegados_dummy, dtype: float64"
      ]
     },
     "metadata": {},
     "output_type": "display_data"
    },
    {
     "name": "stdout",
     "output_type": "stream",
     "text": [
      "Variable: Edad\n"
     ]
    },
    {
     "data": {
      "text/plain": [
       "cluster\n",
       "0     47.688904\n",
       "1     48.795715\n",
       "2     50.069022\n",
       "3     48.917750\n",
       "4     45.332317\n",
       "5     49.724032\n",
       "6     46.373496\n",
       "7     44.852703\n",
       "8     49.956790\n",
       "9     49.158171\n",
       "10    48.316455\n",
       "11    45.624919\n",
       "Name: Edad, dtype: float64"
      ]
     },
     "metadata": {},
     "output_type": "display_data"
    },
    {
     "name": "stdout",
     "output_type": "stream",
     "text": [
      "Variable: Sal_BurCto_Year\n"
     ]
    },
    {
     "data": {
      "text/plain": [
       "cluster\n",
       "0       12.770875\n",
       "1       29.598529\n",
       "2      771.009831\n",
       "3      426.631806\n",
       "4        3.476022\n",
       "5     4945.575747\n",
       "6       69.019147\n",
       "7       19.991606\n",
       "8     1151.192360\n",
       "9      862.279809\n",
       "10     281.454047\n",
       "11      34.908501\n",
       "Name: Sal_BurCto_Year, dtype: float64"
      ]
     },
     "metadata": {},
     "output_type": "display_data"
    },
    {
     "name": "stdout",
     "output_type": "stream",
     "text": [
      "Variable: default\n"
     ]
    },
    {
     "data": {
      "text/plain": [
       "cluster\n",
       "0     0.000359\n",
       "1     0.000726\n",
       "2     0.009500\n",
       "3     0.003457\n",
       "4     0.000385\n",
       "5     0.044669\n",
       "6     0.001020\n",
       "7     0.000289\n",
       "8     0.012667\n",
       "9     0.003857\n",
       "10    0.002426\n",
       "11    0.000727\n",
       "Name: default, dtype: float64"
      ]
     },
     "metadata": {},
     "output_type": "display_data"
    },
    {
     "name": "stdout",
     "output_type": "stream",
     "text": [
      "Variable: scoring\n"
     ]
    },
    {
     "data": {
      "text/plain": [
       "cluster\n",
       "0     0.240203\n",
       "1     0.402991\n",
       "2     0.724841\n",
       "3     0.522147\n",
       "4     0.149993\n",
       "5     0.971213\n",
       "6     0.327004\n",
       "7     0.273421\n",
       "8     0.844485\n",
       "9     0.615500\n",
       "10    0.456102\n",
       "11    0.187655\n",
       "Name: scoring, dtype: float64"
      ]
     },
     "metadata": {},
     "output_type": "display_data"
    }
   ],
   "source": [
    "for col in df_mejor_cluster.columns:\n",
    "    if col != 'cluster':\n",
    "        print(f\"Variable: {col}\")\n",
    "        display(df_mejor_cluster.groupby('cluster')[col].mean())"
   ]
  },
  {
   "cell_type": "markdown",
   "metadata": {},
   "source": [
    "### **3. Calibración de la PD**"
   ]
  },
  {
   "cell_type": "markdown",
   "metadata": {},
   "source": [
    "3.1 Calcular el DR de cada bucket"
   ]
  },
  {
   "cell_type": "code",
   "execution_count": 21,
   "metadata": {},
   "outputs": [
    {
     "name": "stdout",
     "output_type": "stream",
     "text": [
      "0    84818\n",
      "2    72049\n",
      "1    68411\n",
      "3    12609\n",
      "4     6233\n",
      "5     5313\n",
      "Name: cluster, dtype: int64\n"
     ]
    }
   ],
   "source": [
    "df['cluster'] = df['cluster'].apply(lambda x: 0 if x == 1 else 1 if x == 0 else x)\n",
    "\n",
    "print(df['cluster'].value_counts())"
   ]
  },
  {
   "cell_type": "code",
   "execution_count": 22,
   "metadata": {},
   "outputs": [
    {
     "name": "stdout",
     "output_type": "stream",
     "text": [
      "DR por cluster:\n"
     ]
    },
    {
     "data": {
      "text/plain": [
       "cluster\n",
       "0    0.000377\n",
       "1    0.000409\n",
       "2    0.000791\n",
       "3    0.003490\n",
       "4    0.008664\n",
       "5    0.032562\n",
       "Name: default, dtype: float64"
      ]
     },
     "metadata": {},
     "output_type": "display_data"
    }
   ],
   "source": [
    "# DR por cluster\n",
    "print(\"DR por cluster:\")\n",
    "display(df.groupby('cluster')['default'].mean())"
   ]
  },
  {
   "cell_type": "markdown",
   "metadata": {},
   "source": [
    "3.2 Ajustar las PD por bucket usando la fórmula de Bayes"
   ]
  },
  {
   "attachments": {
    "image.png": {
     "image/png": "[encoded data removed]"
    }
   },
   "cell_type": "markdown",
   "metadata": {},
   "source": [
    "![image.png](attachment:image.png)"
   ]
  },
  {
   "cell_type": "code",
   "execution_count": 23,
   "metadata": {},
   "outputs": [
    {
     "data": {
      "text/html": [
       "<div>\n",
       "<style scoped>\n",
       "    .dataframe tbody tr th:only-of-type {\n",
       "        vertical-align: middle;\n",
       "    }\n",
       "\n",
       "    .dataframe tbody tr th {\n",
       "        vertical-align: top;\n",
       "    }\n",
       "\n",
       "    .dataframe thead th {\n",
       "        text-align: right;\n",
       "    }\n",
       "</style>\n",
       "<table border=\"1\" class=\"dataframe\">\n",
       "  <thead>\n",
       "    <tr style=\"text-align: right;\">\n",
       "      <th></th>\n",
       "      <th>FECHA</th>\n",
       "      <th>Paro</th>\n",
       "      <th>PIB</th>\n",
       "      <th>Precio_vivienda</th>\n",
       "      <th>Mora_Adq_Vivienda</th>\n",
       "      <th>Predicciones</th>\n",
       "      <th>Conf_int_lower</th>\n",
       "      <th>Conf_int_upper</th>\n",
       "    </tr>\n",
       "  </thead>\n",
       "  <tbody>\n",
       "    <tr>\n",
       "      <th>0</th>\n",
       "      <td>2021-09-30</td>\n",
       "      <td>0.145786</td>\n",
       "      <td>105.201662</td>\n",
       "      <td>1657.860334</td>\n",
       "      <td>0.029578</td>\n",
       "      <td>0.003447</td>\n",
       "      <td>0.002784</td>\n",
       "      <td>0.004110</td>\n",
       "    </tr>\n",
       "    <tr>\n",
       "      <th>1</th>\n",
       "      <td>2021-12-31</td>\n",
       "      <td>0.139232</td>\n",
       "      <td>106.884889</td>\n",
       "      <td>1666.566146</td>\n",
       "      <td>0.028849</td>\n",
       "      <td>0.003446</td>\n",
       "      <td>0.002459</td>\n",
       "      <td>0.004433</td>\n",
       "    </tr>\n",
       "    <tr>\n",
       "      <th>2</th>\n",
       "      <td>2022-03-31</td>\n",
       "      <td>0.132973</td>\n",
       "      <td>107.953737</td>\n",
       "      <td>1675.262287</td>\n",
       "      <td>0.028419</td>\n",
       "      <td>0.003416</td>\n",
       "      <td>0.002167</td>\n",
       "      <td>0.004666</td>\n",
       "    </tr>\n",
       "    <tr>\n",
       "      <th>3</th>\n",
       "      <td>2022-06-30</td>\n",
       "      <td>0.126995</td>\n",
       "      <td>109.033275</td>\n",
       "      <td>1684.003804</td>\n",
       "      <td>0.028275</td>\n",
       "      <td>0.003384</td>\n",
       "      <td>0.001909</td>\n",
       "      <td>0.004859</td>\n",
       "    </tr>\n",
       "    <tr>\n",
       "      <th>4</th>\n",
       "      <td>2022-09-30</td>\n",
       "      <td>0.121286</td>\n",
       "      <td>109.905541</td>\n",
       "      <td>1692.790935</td>\n",
       "      <td>0.028413</td>\n",
       "      <td>0.003339</td>\n",
       "      <td>0.001664</td>\n",
       "      <td>0.005014</td>\n",
       "    </tr>\n",
       "    <tr>\n",
       "      <th>5</th>\n",
       "      <td>2022-12-31</td>\n",
       "      <td>0.118560</td>\n",
       "      <td>110.564974</td>\n",
       "      <td>1701.623917</td>\n",
       "      <td>0.028838</td>\n",
       "      <td>0.003281</td>\n",
       "      <td>0.001426</td>\n",
       "      <td>0.005136</td>\n",
       "    </tr>\n",
       "    <tr>\n",
       "      <th>6</th>\n",
       "      <td>2023-03-31</td>\n",
       "      <td>0.119746</td>\n",
       "      <td>111.007234</td>\n",
       "      <td>1713.684554</td>\n",
       "      <td>0.029562</td>\n",
       "      <td>0.003178</td>\n",
       "      <td>0.001158</td>\n",
       "      <td>0.005198</td>\n",
       "    </tr>\n",
       "    <tr>\n",
       "      <th>7</th>\n",
       "      <td>2023-06-30</td>\n",
       "      <td>0.120344</td>\n",
       "      <td>111.673278</td>\n",
       "      <td>1725.830673</td>\n",
       "      <td>0.030606</td>\n",
       "      <td>0.003081</td>\n",
       "      <td>0.000907</td>\n",
       "      <td>0.005254</td>\n",
       "    </tr>\n",
       "    <tr>\n",
       "      <th>8</th>\n",
       "      <td>2023-09-30</td>\n",
       "      <td>0.120645</td>\n",
       "      <td>112.566664</td>\n",
       "      <td>1738.062881</td>\n",
       "      <td>0.032005</td>\n",
       "      <td>0.002988</td>\n",
       "      <td>0.000671</td>\n",
       "      <td>0.005304</td>\n",
       "    </tr>\n",
       "    <tr>\n",
       "      <th>9</th>\n",
       "      <td>2023-12-31</td>\n",
       "      <td>0.120796</td>\n",
       "      <td>113.692330</td>\n",
       "      <td>1750.381787</td>\n",
       "      <td>0.033802</td>\n",
       "      <td>0.002899</td>\n",
       "      <td>0.000448</td>\n",
       "      <td>0.005350</td>\n",
       "    </tr>\n",
       "  </tbody>\n",
       "</table>\n",
       "</div>"
      ],
      "text/plain": [
       "        FECHA      Paro         PIB  Precio_vivienda  Mora_Adq_Vivienda  \\\n",
       "0  2021-09-30  0.145786  105.201662      1657.860334           0.029578   \n",
       "1  2021-12-31  0.139232  106.884889      1666.566146           0.028849   \n",
       "2  2022-03-31  0.132973  107.953737      1675.262287           0.028419   \n",
       "3  2022-06-30  0.126995  109.033275      1684.003804           0.028275   \n",
       "4  2022-09-30  0.121286  109.905541      1692.790935           0.028413   \n",
       "5  2022-12-31  0.118560  110.564974      1701.623917           0.028838   \n",
       "6  2023-03-31  0.119746  111.007234      1713.684554           0.029562   \n",
       "7  2023-06-30  0.120344  111.673278      1725.830673           0.030606   \n",
       "8  2023-09-30  0.120645  112.566664      1738.062881           0.032005   \n",
       "9  2023-12-31  0.120796  113.692330      1750.381787           0.033802   \n",
       "\n",
       "   Predicciones  Conf_int_lower  Conf_int_upper  \n",
       "0      0.003447        0.002784        0.004110  \n",
       "1      0.003446        0.002459        0.004433  \n",
       "2      0.003416        0.002167        0.004666  \n",
       "3      0.003384        0.001909        0.004859  \n",
       "4      0.003339        0.001664        0.005014  \n",
       "5      0.003281        0.001426        0.005136  \n",
       "6      0.003178        0.001158        0.005198  \n",
       "7      0.003081        0.000907        0.005254  \n",
       "8      0.002988        0.000671        0.005304  \n",
       "9      0.002899        0.000448        0.005350  "
      ]
     },
     "execution_count": 23,
     "metadata": {},
     "output_type": "execute_result"
    }
   ],
   "source": [
    "df_predicciones_macro"
   ]
  },
  {
   "cell_type": "code",
   "execution_count": 24,
   "metadata": {},
   "outputs": [],
   "source": [
    "for trimestre in df_predicciones_macro.index:\n",
    "    for cluster in df['cluster'].unique():\n",
    "        media_scoring = df.loc[df['cluster'] == cluster, 'scoring'].mean()\n",
    "        pd_global = df_predicciones_macro.loc[trimestre, 'Predicciones']\n",
    "        df_predicciones_macro.loc[trimestre, f'cluster_{cluster}'] = pd_global * media_scoring / (pd_global * media_scoring + (1 - pd_global) * (1 - media_scoring))"
   ]
  },
  {
   "cell_type": "code",
   "execution_count": 34,
   "metadata": {},
   "outputs": [
    {
     "data": {
      "text/plain": [
       "0   2021-09-30\n",
       "1   2021-12-31\n",
       "2   2022-03-31\n",
       "3   2022-06-30\n",
       "4   2022-09-30\n",
       "5   2022-12-31\n",
       "6   2023-03-31\n",
       "7   2023-06-30\n",
       "8   2023-09-30\n",
       "9   2023-12-31\n",
       "Name: FECHA, dtype: datetime64[ns]"
      ]
     },
     "execution_count": 34,
     "metadata": {},
     "output_type": "execute_result"
    }
   ],
   "source": [
    "df_predicciones_macro['FECHA'] = pd.to_datetime(df_predicciones_macro['FECHA'])\n",
    "df_predicciones_macro['FECHA']"
   ]
  },
  {
   "cell_type": "code",
   "execution_count": 58,
   "metadata": {},
   "outputs": [
    {
     "data": {
      "image/png": "[encoded data removed]",
      "text/plain": [
       "<Figure size 1200x600 with 1 Axes>"
      ]
     },
     "metadata": {},
     "output_type": "display_data"
    }
   ],
   "source": [
    "\n",
    "# Convertir la columna FECHA a formato datetime\n",
    "\n",
    "\n",
    "# Configurar el gráfico\n",
    "plt.figure(figsize=(12, 6))\n",
    "\n",
    "# Graficar cada cluster\n",
    "for cluster in [\"cluster_0\", \"cluster_1\", \"cluster_2\", \"cluster_3\", \"cluster_4\", \"cluster_5\"]:\n",
    "    plt.plot(df_predicciones_macro[\"FECHA\"], df_predicciones_macro[cluster], label=cluster)\n",
    "\n",
    "# Personalizar el gráfico\n",
    "plt.title(\"Evolución de Clusters por trimestre\", fontsize=16)\n",
    "plt.xlabel(\"Fecha\", fontsize=12)\n",
    "# plt.ylabel(\"Valor\", fontsize=12)\n",
    "plt.ylim(0, 0.05)  # Eje Y entre 0 y 1\n",
    "plt.xticks(rotation=45)  # Rotar las etiquetas del eje X para mayor legibilidad\n",
    "plt.legend(title=\"Clusters\")\n",
    "plt.grid(True, linestyle=\"--\", alpha=0.6)\n",
    "\n",
    "# Mostrar el gráfico\n",
    "plt.tight_layout()  # Ajustar diseño para evitar solapamientos\n",
    "plt.show()"
   ]
  },
  {
   "cell_type": "code",
   "execution_count": 68,
   "metadata": {},
   "outputs": [
    {
     "data": {
      "application/vnd.plotly.v1+json": {
       "config": {
        "plotlyServerURL": "https://plot.ly"
       },
       "data": [
        {
         "hovertemplate": "Cluster=cluster_0<br>Fecha=%{x}<br>Valor=%{y}<extra></extra>",
         "legendgroup": "cluster_0",
         "line": {
          "color": "#636efa",
          "dash": "solid"
         },
         "marker": {
          "symbol": "circle"
         },
         "mode": "lines",
         "name": "cluster_0",
         "orientation": "v",
         "showlegend": true,
         "type": "scatter",
         "x": [
          "2021-09-30T00:00:00",
          "2021-12-31T00:00:00",
          "2022-03-31T00:00:00",
          "2022-06-30T00:00:00",
          "2022-09-30T00:00:00",
          "2022-12-31T00:00:00",
          "2023-03-31T00:00:00",
          "2023-06-30T00:00:00",
          "2023-09-30T00:00:00",
          "2023-12-31T00:00:00"
         ],
         "xaxis": "x",
         "y": [
          0.0011990616746996798,
          0.0011986523488056282,
          0.0011883971827339832,
          0.001177094378765999,
          0.001161512252429952,
          0.001141131226967678,
          0.0011054073024060356,
          0.001071423983071757,
          0.0010390490822204986,
          0.0010081425516611806
         ],
         "yaxis": "y"
        },
        {
         "hovertemplate": "Cluster=cluster_1<br>Fecha=%{x}<br>Valor=%{y}<extra></extra>",
         "legendgroup": "cluster_1",
         "line": {
          "color": "#EF553B",
          "dash": "solid"
         },
         "marker": {
          "symbol": "circle"
         },
         "mode": "lines",
         "name": "cluster_1",
         "orientation": "v",
         "showlegend": true,
         "type": "scatter",
         "x": [
          "2021-09-30T00:00:00",
          "2021-12-31T00:00:00",
          "2022-03-31T00:00:00",
          "2022-06-30T00:00:00",
          "2022-09-30T00:00:00",
          "2022-12-31T00:00:00",
          "2023-03-31T00:00:00",
          "2023-06-30T00:00:00",
          "2023-09-30T00:00:00",
          "2023-12-31T00:00:00"
         ],
         "xaxis": "x",
         "y": [
          0.0006248095837852523,
          0.0006245961687971997,
          0.000619249341281575,
          0.0006133563583554202,
          0.0006052323547009161,
          0.0005946065475004067,
          0.0005759821007497046,
          0.0005582656998894923,
          0.0005413883469995054,
          0.0005252769587615862
         ],
         "yaxis": "y"
        },
        {
         "hovertemplate": "Cluster=cluster_2<br>Fecha=%{x}<br>Valor=%{y}<extra></extra>",
         "legendgroup": "cluster_2",
         "line": {
          "color": "#00cc96",
          "dash": "solid"
         },
         "marker": {
          "symbol": "circle"
         },
         "mode": "lines",
         "name": "cluster_2",
         "orientation": "v",
         "showlegend": true,
         "type": "scatter",
         "x": [
          "2021-09-30T00:00:00",
          "2021-12-31T00:00:00",
          "2022-03-31T00:00:00",
          "2022-06-30T00:00:00",
          "2022-09-30T00:00:00",
          "2022-12-31T00:00:00",
          "2023-03-31T00:00:00",
          "2023-06-30T00:00:00",
          "2023-09-30T00:00:00",
          "2023-12-31T00:00:00"
         ],
         "xaxis": "x",
         "y": [
          0.002337379850968817,
          0.0023365828443629587,
          0.0023166146037213856,
          0.0022946060148104114,
          0.0022642640414787525,
          0.0022245761543950742,
          0.0021550073929772233,
          0.0020888239004737026,
          0.0020257688718859643,
          0.001965570095837432
         ],
         "yaxis": "y"
        },
        {
         "hovertemplate": "Cluster=cluster_3<br>Fecha=%{x}<br>Valor=%{y}<extra></extra>",
         "legendgroup": "cluster_3",
         "line": {
          "color": "#ab63fa",
          "dash": "solid"
         },
         "marker": {
          "symbol": "circle"
         },
         "mode": "lines",
         "name": "cluster_3",
         "orientation": "v",
         "showlegend": true,
         "type": "scatter",
         "x": [
          "2021-09-30T00:00:00",
          "2021-12-31T00:00:00",
          "2022-03-31T00:00:00",
          "2022-06-30T00:00:00",
          "2022-09-30T00:00:00",
          "2022-12-31T00:00:00",
          "2023-03-31T00:00:00",
          "2023-06-30T00:00:00",
          "2023-09-30T00:00:00",
          "2023-12-31T00:00:00"
         ],
         "xaxis": "x",
         "y": [
          0.0037579176894644104,
          0.003756638127619235,
          0.0037245795199973234,
          0.00368924427081782,
          0.0036405280452916273,
          0.0035768035629217773,
          0.0034650937006029236,
          0.0033588109354517814,
          0.003257544135328823,
          0.003160857235382404
         ],
         "yaxis": "y"
        },
        {
         "hovertemplate": "Cluster=cluster_4<br>Fecha=%{x}<br>Valor=%{y}<extra></extra>",
         "legendgroup": "cluster_4",
         "line": {
          "color": "#FFA15A",
          "dash": "solid"
         },
         "marker": {
          "symbol": "circle"
         },
         "mode": "lines",
         "name": "cluster_4",
         "orientation": "v",
         "showlegend": true,
         "type": "scatter",
         "x": [
          "2021-09-30T00:00:00",
          "2021-12-31T00:00:00",
          "2022-03-31T00:00:00",
          "2022-06-30T00:00:00",
          "2022-09-30T00:00:00",
          "2022-12-31T00:00:00",
          "2023-03-31T00:00:00",
          "2023-06-30T00:00:00",
          "2023-09-30T00:00:00",
          "2023-12-31T00:00:00"
         ],
         "xaxis": "x",
         "y": [
          0.008218142246415785,
          0.008215356512631986,
          0.008145558953515644,
          0.00806862135813671,
          0.007962537922817878,
          0.007823754228142224,
          0.007580413704879641,
          0.007348835013766355,
          0.007128130977975486,
          0.006917358788969593
         ],
         "yaxis": "y"
        },
        {
         "hovertemplate": "Cluster=cluster_5<br>Fecha=%{x}<br>Valor=%{y}<extra></extra>",
         "legendgroup": "cluster_5",
         "line": {
          "color": "#19d3f3",
          "dash": "solid"
         },
         "marker": {
          "symbol": "circle"
         },
         "mode": "lines",
         "name": "cluster_5",
         "orientation": "v",
         "showlegend": true,
         "type": "scatter",
         "x": [
          "2021-09-30T00:00:00",
          "2021-12-31T00:00:00",
          "2022-03-31T00:00:00",
          "2022-06-30T00:00:00",
          "2022-09-30T00:00:00",
          "2022-12-31T00:00:00",
          "2023-03-31T00:00:00",
          "2023-06-30T00:00:00",
          "2023-09-30T00:00:00",
          "2023-12-31T00:00:00"
         ],
         "xaxis": "x",
         "y": [
          0.04456870931868168,
          0.04455415524025451,
          0.04418937950305095,
          0.04378702522422413,
          0.0432317959673368,
          0.04250462242359534,
          0.04122743194044834,
          0.04000938984206914,
          0.0388461925288495,
          0.03773318985127593
         ],
         "yaxis": "y"
        }
       ],
       "layout": {
        "legend": {
         "title": {
          "text": "Cluster"
         },
         "tracegroupgap": 0
        },
        "template": {
         "data": {
          "bar": [
           {
            "error_x": {
             "color": "#2a3f5f"
            },
            "error_y": {
             "color": "#2a3f5f"
            },
            "marker": {
             "line": {
              "color": "white",
              "width": 0.5
             },
             "pattern": {
              "fillmode": "overlay",
              "size": 10,
              "solidity": 0.2
             }
            },
            "type": "bar"
           }
          ],
          "barpolar": [
           {
            "marker": {
             "line": {
              "color": "white",
              "width": 0.5
             },
             "pattern": {
              "fillmode": "overlay",
              "size": 10,
              "solidity": 0.2
             }
            },
            "type": "barpolar"
           }
          ],
          "carpet": [
           {
            "aaxis": {
             "endlinecolor": "#2a3f5f",
             "gridcolor": "#C8D4E3",
             "linecolor": "#C8D4E3",
             "minorgridcolor": "#C8D4E3",
             "startlinecolor": "#2a3f5f"
            },
            "baxis": {
             "endlinecolor": "#2a3f5f",
             "gridcolor": "#C8D4E3",
             "linecolor": "#C8D4E3",
             "minorgridcolor": "#C8D4E3",
             "startlinecolor": "#2a3f5f"
            },
            "type": "carpet"
           }
          ],
          "choropleth": [
           {
            "colorbar": {
             "outlinewidth": 0,
             "ticks": ""
            },
            "type": "choropleth"
           }
          ],
          "contour": [
           {
            "colorbar": {
             "outlinewidth": 0,
             "ticks": ""
            },
            "colorscale": [
             [
              0,
              "#0d0887"
             ],
             [
              0.1111111111111111,
              "#46039f"
             ],
             [
              0.2222222222222222,
              "#7201a8"
             ],
             [
              0.3333333333333333,
              "#9c179e"
             ],
             [
              0.4444444444444444,
              "#bd3786"
             ],
             [
              0.5555555555555556,
              "#d8576b"
             ],
             [
              0.6666666666666666,
              "#ed7953"
             ],
             [
              0.7777777777777778,
              "#fb9f3a"
             ],
             [
              0.8888888888888888,
              "#fdca26"
             ],
             [
              1,
              "#f0f921"
             ]
            ],
            "type": "contour"
           }
          ],
          "contourcarpet": [
           {
            "colorbar": {
             "outlinewidth": 0,
             "ticks": ""
            },
            "type": "contourcarpet"
           }
          ],
          "heatmap": [
           {
            "colorbar": {
             "outlinewidth": 0,
             "ticks": ""
            },
            "colorscale": [
             [
              0,
              "#0d0887"
             ],
             [
              0.1111111111111111,
              "#46039f"
             ],
             [
              0.2222222222222222,
              "#7201a8"
             ],
             [
              0.3333333333333333,
              "#9c179e"
             ],
             [
              0.4444444444444444,
              "#bd3786"
             ],
             [
              0.5555555555555556,
              "#d8576b"
             ],
             [
              0.6666666666666666,
              "#ed7953"
             ],
             [
              0.7777777777777778,
              "#fb9f3a"
             ],
             [
              0.8888888888888888,
              "#fdca26"
             ],
             [
              1,
              "#f0f921"
             ]
            ],
            "type": "heatmap"
           }
          ],
          "heatmapgl": [
           {
            "colorbar": {
             "outlinewidth": 0,
             "ticks": ""
            },
            "colorscale": [
             [
              0,
              "#0d0887"
             ],
             [
              0.1111111111111111,
              "#46039f"
             ],
             [
              0.2222222222222222,
              "#7201a8"
             ],
             [
              0.3333333333333333,
              "#9c179e"
             ],
             [
              0.4444444444444444,
              "#bd3786"
             ],
             [
              0.5555555555555556,
              "#d8576b"
             ],
             [
              0.6666666666666666,
              "#ed7953"
             ],
             [
              0.7777777777777778,
              "#fb9f3a"
             ],
             [
              0.8888888888888888,
              "#fdca26"
             ],
             [
              1,
              "#f0f921"
             ]
            ],
            "type": "heatmapgl"
           }
          ],
          "histogram": [
           {
            "marker": {
             "pattern": {
              "fillmode": "overlay",
              "size": 10,
              "solidity": 0.2
             }
            },
            "type": "histogram"
           }
          ],
          "histogram2d": [
           {
            "colorbar": {
             "outlinewidth": 0,
             "ticks": ""
            },
            "colorscale": [
             [
              0,
              "#0d0887"
             ],
             [
              0.1111111111111111,
              "#46039f"
             ],
             [
              0.2222222222222222,
              "#7201a8"
             ],
             [
              0.3333333333333333,
              "#9c179e"
             ],
             [
              0.4444444444444444,
              "#bd3786"
             ],
             [
              0.5555555555555556,
              "#d8576b"
             ],
             [
              0.6666666666666666,
              "#ed7953"
             ],
             [
              0.7777777777777778,
              "#fb9f3a"
             ],
             [
              0.8888888888888888,
              "#fdca26"
             ],
             [
              1,
              "#f0f921"
             ]
            ],
            "type": "histogram2d"
           }
          ],
          "histogram2dcontour": [
           {
            "colorbar": {
             "outlinewidth": 0,
             "ticks": ""
            },
            "colorscale": [
             [
              0,
              "#0d0887"
             ],
             [
              0.1111111111111111,
              "#46039f"
             ],
             [
              0.2222222222222222,
              "#7201a8"
             ],
             [
              0.3333333333333333,
              "#9c179e"
             ],
             [
              0.4444444444444444,
              "#bd3786"
             ],
             [
              0.5555555555555556,
              "#d8576b"
             ],
             [
              0.6666666666666666,
              "#ed7953"
             ],
             [
              0.7777777777777778,
              "#fb9f3a"
             ],
             [
              0.8888888888888888,
              "#fdca26"
             ],
             [
              1,
              "#f0f921"
             ]
            ],
            "type": "histogram2dcontour"
           }
          ],
          "mesh3d": [
           {
            "colorbar": {
             "outlinewidth": 0,
             "ticks": ""
            },
            "type": "mesh3d"
           }
          ],
          "parcoords": [
           {
            "line": {
             "colorbar": {
              "outlinewidth": 0,
              "ticks": ""
             }
            },
            "type": "parcoords"
           }
          ],
          "pie": [
           {
            "automargin": true,
            "type": "pie"
           }
          ],
          "scatter": [
           {
            "fillpattern": {
             "fillmode": "overlay",
             "size": 10,
             "solidity": 0.2
            },
            "type": "scatter"
           }
          ],
          "scatter3d": [
           {
            "line": {
             "colorbar": {
              "outlinewidth": 0,
              "ticks": ""
             }
            },
            "marker": {
             "colorbar": {
              "outlinewidth": 0,
              "ticks": ""
             }
            },
            "type": "scatter3d"
           }
          ],
          "scattercarpet": [
           {
            "marker": {
             "colorbar": {
              "outlinewidth": 0,
              "ticks": ""
             }
            },
            "type": "scattercarpet"
           }
          ],
          "scattergeo": [
           {
            "marker": {
             "colorbar": {
              "outlinewidth": 0,
              "ticks": ""
             }
            },
            "type": "scattergeo"
           }
          ],
          "scattergl": [
           {
            "marker": {
             "colorbar": {
              "outlinewidth": 0,
              "ticks": ""
             }
            },
            "type": "scattergl"
           }
          ],
          "scattermapbox": [
           {
            "marker": {
             "colorbar": {
              "outlinewidth": 0,
              "ticks": ""
             }
            },
            "type": "scattermapbox"
           }
          ],
          "scatterpolar": [
           {
            "marker": {
             "colorbar": {
              "outlinewidth": 0,
              "ticks": ""
             }
            },
            "type": "scatterpolar"
           }
          ],
          "scatterpolargl": [
           {
            "marker": {
             "colorbar": {
              "outlinewidth": 0,
              "ticks": ""
             }
            },
            "type": "scatterpolargl"
           }
          ],
          "scatterternary": [
           {
            "marker": {
             "colorbar": {
              "outlinewidth": 0,
              "ticks": ""
             }
            },
            "type": "scatterternary"
           }
          ],
          "surface": [
           {
            "colorbar": {
             "outlinewidth": 0,
             "ticks": ""
            },
            "colorscale": [
             [
              0,
              "#0d0887"
             ],
             [
              0.1111111111111111,
              "#46039f"
             ],
             [
              0.2222222222222222,
              "#7201a8"
             ],
             [
              0.3333333333333333,
              "#9c179e"
             ],
             [
              0.4444444444444444,
              "#bd3786"
             ],
             [
              0.5555555555555556,
              "#d8576b"
             ],
             [
              0.6666666666666666,
              "#ed7953"
             ],
             [
              0.7777777777777778,
              "#fb9f3a"
             ],
             [
              0.8888888888888888,
              "#fdca26"
             ],
             [
              1,
              "#f0f921"
             ]
            ],
            "type": "surface"
           }
          ],
          "table": [
           {
            "cells": {
             "fill": {
              "color": "#EBF0F8"
             },
             "line": {
              "color": "white"
             }
            },
            "header": {
             "fill": {
              "color": "#C8D4E3"
             },
             "line": {
              "color": "white"
             }
            },
            "type": "table"
           }
          ]
         },
         "layout": {
          "annotationdefaults": {
           "arrowcolor": "#2a3f5f",
           "arrowhead": 0,
           "arrowwidth": 1
          },
          "autotypenumbers": "strict",
          "coloraxis": {
           "colorbar": {
            "outlinewidth": 0,
            "ticks": ""
           }
          },
          "colorscale": {
           "diverging": [
            [
             0,
             "#8e0152"
            ],
            [
             0.1,
             "#c51b7d"
            ],
            [
             0.2,
             "#de77ae"
            ],
            [
             0.3,
             "#f1b6da"
            ],
            [
             0.4,
             "#fde0ef"
            ],
            [
             0.5,
             "#f7f7f7"
            ],
            [
             0.6,
             "#e6f5d0"
            ],
            [
             0.7,
             "#b8e186"
            ],
            [
             0.8,
             "#7fbc41"
            ],
            [
             0.9,
             "#4d9221"
            ],
            [
             1,
             "#276419"
            ]
           ],
           "sequential": [
            [
             0,
             "#0d0887"
            ],
            [
             0.1111111111111111,
             "#46039f"
            ],
            [
             0.2222222222222222,
             "#7201a8"
            ],
            [
             0.3333333333333333,
             "#9c179e"
            ],
            [
             0.4444444444444444,
             "#bd3786"
            ],
            [
             0.5555555555555556,
             "#d8576b"
            ],
            [
             0.6666666666666666,
             "#ed7953"
            ],
            [
             0.7777777777777778,
             "#fb9f3a"
            ],
            [
             0.8888888888888888,
             "#fdca26"
            ],
            [
             1,
             "#f0f921"
            ]
           ],
           "sequentialminus": [
            [
             0,
             "#0d0887"
            ],
            [
             0.1111111111111111,
             "#46039f"
            ],
            [
             0.2222222222222222,
             "#7201a8"
            ],
            [
             0.3333333333333333,
             "#9c179e"
            ],
            [
             0.4444444444444444,
             "#bd3786"
            ],
            [
             0.5555555555555556,
             "#d8576b"
            ],
            [
             0.6666666666666666,
             "#ed7953"
            ],
            [
             0.7777777777777778,
             "#fb9f3a"
            ],
            [
             0.8888888888888888,
             "#fdca26"
            ],
            [
             1,
             "#f0f921"
            ]
           ]
          },
          "colorway": [
           "#636efa",
           "#EF553B",
           "#00cc96",
           "#ab63fa",
           "#FFA15A",
           "#19d3f3",
           "#FF6692",
           "#B6E880",
           "#FF97FF",
           "#FECB52"
          ],
          "font": {
           "color": "#2a3f5f"
          },
          "geo": {
           "bgcolor": "white",
           "lakecolor": "white",
           "landcolor": "white",
           "showlakes": true,
           "showland": true,
           "subunitcolor": "#C8D4E3"
          },
          "hoverlabel": {
           "align": "left"
          },
          "hovermode": "closest",
          "mapbox": {
           "style": "light"
          },
          "paper_bgcolor": "white",
          "plot_bgcolor": "white",
          "polar": {
           "angularaxis": {
            "gridcolor": "#EBF0F8",
            "linecolor": "#EBF0F8",
            "ticks": ""
           },
           "bgcolor": "white",
           "radialaxis": {
            "gridcolor": "#EBF0F8",
            "linecolor": "#EBF0F8",
            "ticks": ""
           }
          },
          "scene": {
           "xaxis": {
            "backgroundcolor": "white",
            "gridcolor": "#DFE8F3",
            "gridwidth": 2,
            "linecolor": "#EBF0F8",
            "showbackground": true,
            "ticks": "",
            "zerolinecolor": "#EBF0F8"
           },
           "yaxis": {
            "backgroundcolor": "white",
            "gridcolor": "#DFE8F3",
            "gridwidth": 2,
            "linecolor": "#EBF0F8",
            "showbackground": true,
            "ticks": "",
            "zerolinecolor": "#EBF0F8"
           },
           "zaxis": {
            "backgroundcolor": "white",
            "gridcolor": "#DFE8F3",
            "gridwidth": 2,
            "linecolor": "#EBF0F8",
            "showbackground": true,
            "ticks": "",
            "zerolinecolor": "#EBF0F8"
           }
          },
          "shapedefaults": {
           "line": {
            "color": "#2a3f5f"
           }
          },
          "ternary": {
           "aaxis": {
            "gridcolor": "#DFE8F3",
            "linecolor": "#A2B1C6",
            "ticks": ""
           },
           "baxis": {
            "gridcolor": "#DFE8F3",
            "linecolor": "#A2B1C6",
            "ticks": ""
           },
           "bgcolor": "white",
           "caxis": {
            "gridcolor": "#DFE8F3",
            "linecolor": "#A2B1C6",
            "ticks": ""
           }
          },
          "title": {
           "x": 0.05
          },
          "xaxis": {
           "automargin": true,
           "gridcolor": "#EBF0F8",
           "linecolor": "#EBF0F8",
           "ticks": "",
           "title": {
            "standoff": 15
           },
           "zerolinecolor": "#EBF0F8",
           "zerolinewidth": 2
          },
          "yaxis": {
           "automargin": true,
           "gridcolor": "#EBF0F8",
           "linecolor": "#EBF0F8",
           "ticks": "",
           "title": {
            "standoff": 15
           },
           "zerolinecolor": "#EBF0F8",
           "zerolinewidth": 2
          }
         }
        },
        "title": {
         "text": "Evolución de Clusters"
        },
        "xaxis": {
         "anchor": "y",
         "domain": [
          0,
          1
         ],
         "title": {
          "text": "Fecha"
         }
        },
        "yaxis": {
         "anchor": "x",
         "domain": [
          0,
          1
         ],
         "range": [
          0,
          0.05
         ],
         "title": {
          "text": "Valor"
         }
        }
       }
      }
     },
     "metadata": {},
     "output_type": "display_data"
    }
   ],
   "source": [
    "import plotly.express as px\n",
    "# Reestructurar el DataFrame para usar Plotly Express\n",
    "df_melted = df_predicciones_macro.melt(id_vars=\"FECHA\", var_name=\"Cluster\", value_name=\"Valor\")\n",
    "\n",
    "# Crear el gráfico interactivo\n",
    "fig = px.line(\n",
    "    df_melted,\n",
    "    x=\"FECHA\",\n",
    "    y=\"Valor\",\n",
    "    color=\"Cluster\",\n",
    "    title=\"Evolución de Clusters\",\n",
    "    labels={\"Valor\": \"Valor\", \"FECHA\": \"Fecha\"},\n",
    "    template=\"plotly_white\",\n",
    ")\n",
    "\n",
    "# Ajustar el rango del eje Y\n",
    "fig.update_yaxes(range=[0, 0.05])\n",
    "\n",
    "# Mostrar el gráfico\n",
    "fig.show()"
   ]
  },
  {
   "cell_type": "code",
   "execution_count": 26,
   "metadata": {},
   "outputs": [
    {
     "name": "stdout",
     "output_type": "stream",
     "text": [
      "0.3400432180184659 0.0011990616746996798\n",
      "0.2742660353682151 0.0006248095837852523\n",
      "0.2888511143272943 0.002337379850968817\n",
      "0.05055064887164088 0.0037579176894644104\n",
      "0.02498867431334266 0.008218142246415785\n",
      "0.02130030910104116 0.04456870931868168\n",
      "Predicción de default para el trimestre 0: 0.0034467328815973\n",
      "Predicción de default ponderada: 0.002598904554818267\n",
      "0.3400432180184659 0.0011986523488056282\n",
      "0.2742660353682151 0.0006245961687971997\n",
      "0.2888511143272943 0.0023365828443629587\n",
      "0.05055064887164088 0.003756638127619235\n",
      "0.02498867431334266 0.008215356512631986\n",
      "0.02130030910104116 0.04455415524025451\n",
      "Predicción de default para el trimestre 1: 0.0034455589109628\n",
      "Predicción de default ponderada: 0.002598032316750174\n",
      "0.3400432180184659 0.0011883971827339832\n",
      "0.2742660353682151 0.000619249341281575\n",
      "0.2888511143272943 0.0023166146037213856\n",
      "0.05055064887164088 0.0037245795199973234\n",
      "0.02498867431334266 0.008145558953515644\n",
      "0.02130030910104116 0.04418937950305095\n",
      "Predicción de default para el trimestre 2: 0.0034161459054238\n",
      "Predicción de default ponderada: 0.0025761762474880464\n",
      "0.3400432180184659 0.001177094378765999\n",
      "0.2742660353682151 0.0006133563583554202\n",
      "0.2888511143272943 0.0022946060148104114\n",
      "0.05055064887164088 0.00368924427081782\n",
      "0.02498867431334266 0.00806862135813671\n",
      "0.02130030910104116 0.04378702522422413\n",
      "Predicción de default para el trimestre 3: 0.0033837268412491\n",
      "Predicción de default ponderada: 0.0025520802963642075\n",
      "0.3400432180184659 0.001161512252429952\n",
      "0.2742660353682151 0.0006052323547009161\n",
      "0.2888511143272943 0.0022642640414787525\n",
      "0.05055064887164088 0.0036405280452916273\n",
      "0.02498867431334266 0.007962537922817878\n",
      "0.02130030910104116 0.0432317959673368\n",
      "Predicción de default para el trimestre 4: 0.0033390314324251\n",
      "Predicción de default ponderada: 0.002518849172880161\n",
      "0.3400432180184659 0.001141131226967678\n",
      "0.2742660353682151 0.0005946065475004067\n",
      "0.2888511143272943 0.0022245761543950742\n",
      "0.05055064887164088 0.0035768035629217773\n",
      "0.02498867431334266 0.007823754228142224\n",
      "0.02130030910104116 0.04250462242359534\n",
      "Predicción de default para el trimestre 5: 0.0032805670267408\n",
      "Predicción de default ponderada: 0.002475362199241715\n",
      "0.3400432180184659 0.0011054073024060356\n",
      "0.2742660353682151 0.0005759821007497046\n",
      "0.2888511143272943 0.0021550073929772233\n",
      "0.05055064887164088 0.0034650937006029236\n",
      "0.02498867431334266 0.007580413704879641\n",
      "0.02130030910104116 0.04122743194044834\n",
      "Predicción de default para el trimestre 6: 0.0031780796430481\n",
      "Predicción de default ponderada: 0.0023990791383638023\n",
      "0.3400432180184659 0.001071423983071757\n",
      "0.2742660353682151 0.0005582656998894923\n",
      "0.2888511143272943 0.0020888239004737026\n",
      "0.05055064887164088 0.0033588109354517814\n",
      "0.02498867431334266 0.007348835013766355\n",
      "0.02130030910104116 0.04000938984206914\n",
      "Predicción de default para el trimestre 7: 0.0030805730761046\n",
      "Predicción de default ponderada: 0.002326442978087826\n",
      "0.3400432180184659 0.0010390490822204986\n",
      "0.2742660353682151 0.0005413883469995054\n",
      "0.2888511143272943 0.0020257688718859643\n",
      "0.05055064887164088 0.003257544135328823\n",
      "0.02498867431334266 0.007128130977975486\n",
      "0.02130030910104116 0.0388461925288495\n",
      "Predicción de default para el trimestre 8: 0.0029876698883344\n",
      "Predicción de default ponderada: 0.002257181046640713\n",
      "0.3400432180184659 0.0010081425516611806\n",
      "0.2742660353682151 0.0005252769587615862\n",
      "0.2888511143272943 0.001965570095837432\n",
      "0.05055064887164088 0.003160857235382404\n",
      "0.02498867431334266 0.006917358788969593\n",
      "0.02130030910104116 0.03773318985127593\n",
      "Predicción de default para el trimestre 9: 0.0028989698067754\n",
      "Predicción de default ponderada: 0.0021910023962348254\n"
     ]
    }
   ],
   "source": [
    "for trimestre in df_predicciones_macro.index:\n",
    "    pd_media_ponderada = 0\n",
    "    for columna_cluster in df_predicciones_macro.columns[8:]:\n",
    "        cantidad_del_cluster = df['cluster'].value_counts(normalize=True).loc[int(columna_cluster.split('_')[1])]\n",
    "        print(cantidad_del_cluster, df_predicciones_macro.loc[trimestre, columna_cluster])\n",
    "        pd_media_ponderada += df_predicciones_macro.loc[trimestre, columna_cluster] * cantidad_del_cluster\n",
    "    \n",
    "    print(f\"Predicción de default para el trimestre {trimestre}: {df_predicciones_macro.loc[trimestre, 'Predicciones']}\") # calculado con el modelo\n",
    "    print(f\"Predicción de default ponderada: {pd_media_ponderada}\") # con la formula \n"
   ]
  },
  {
   "cell_type": "code",
   "execution_count": 27,
   "metadata": {},
   "outputs": [
    {
     "data": {
      "text/plain": [
       "0.3100841334942593"
      ]
     },
     "execution_count": 27,
     "metadata": {},
     "output_type": "execute_result"
    }
   ],
   "source": [
    "df['scoring'].mean()"
   ]
  }
 ],
 "metadata": {
  "kernelspec": {
   "display_name": "DM_reto9",
   "language": "python",
   "name": "python3"
  },
  "language_info": {
   "codemirror_mode": {
    "name": "ipython",
    "version": 3
   },
   "file_extension": ".py",
   "mimetype": "text/x-python",
   "name": "python",
   "nbconvert_exporter": "python",
   "pygments_lexer": "ipython3",
   "version": "3.7.16"
  }
 },
 "nbformat": 4,
 "nbformat_minor": 2
}
